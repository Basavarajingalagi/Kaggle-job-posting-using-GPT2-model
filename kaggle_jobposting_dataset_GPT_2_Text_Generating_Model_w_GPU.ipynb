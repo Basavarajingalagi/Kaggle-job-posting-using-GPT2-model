{
 "cells": [
  {
   "cell_type": "markdown",
   "metadata": {
    "colab_type": "text",
    "id": "H7LoMj4GA4n_"
   },
   "source": [
    "#  Train a GPT-2 Text-Generating Model w/ GPU For Free \n",
    "\n",
    "This training is done for the kaggle jobposting dataset\n",
    "fine tuning is done on GPT2 model released by openai for autotmatic text generation on kaggle job posting dataset.\n",
    "since the full version of GPT is not released i have used the simpler model called 124 M for finetuning.\n",
    "\n",
    "in the next .py files i have written the rest API for this model\n",
    "\n",
    "To get started:\n",
    "\n",
    "1. Copy this notebook to your Google Drive to keep it and save your changes. (File -> Save a Copy in Drive)\n",
    "2. Make sure you're running the notebook in Google Chrome.\n",
    "3. Run the cells below:"
   ]
  },
  {
   "cell_type": "code",
   "execution_count": 0,
   "metadata": {
    "colab": {
     "base_uri": "https://localhost:8080/",
     "height": 153
    },
    "colab_type": "code",
    "id": "KBkpRgBCBS2_",
    "outputId": "ac720226-b3ed-4803-9c2b-3083b3ff89dd"
   },
   "outputs": [
    {
     "name": "stdout",
     "output_type": "stream",
     "text": [
      "WARNING:tensorflow:\n",
      "The TensorFlow contrib module will not be included in TensorFlow 2.0.\n",
      "For more information, please see:\n",
      "  * https://github.com/tensorflow/community/blob/master/rfcs/20180907-contrib-sunset.md\n",
      "  * https://github.com/tensorflow/addons\n",
      "  * https://github.com/tensorflow/io (for I/O related ops)\n",
      "If you depend on functionality not listed there, please file an issue.\n",
      "\n"
     ]
    }
   ],
   "source": [
    "%tensorflow_version 1.x\n",
    "!pip install -q gpt-2-simple\n",
    "import gpt_2_simple as gpt2\n",
    "from datetime import datetime\n",
    "from google.colab import files"
   ]
  },
  {
   "cell_type": "code",
   "execution_count": 0,
   "metadata": {
    "colab": {},
    "colab_type": "code",
    "id": "sJN2bBXAaTzK"
   },
   "outputs": [],
   "source": [
    "import pandas as pd\n",
    "import numpy as np"
   ]
  },
  {
   "cell_type": "markdown",
   "metadata": {
    "colab_type": "text",
    "id": "Bj2IJLHP3KwE"
   },
   "source": [
    "## GPU\n",
    "\n",
    "Colaboratory uses either a Nvidia T4 GPU or an Nvidia K80 GPU. The T4 is slightly faster than the old K80 for training GPT-2, and has more memory allowing you to train the larger GPT-2 models and generate more text.\n",
    "\n",
    "You can verify which GPU is active by running the cell below."
   ]
  },
  {
   "cell_type": "code",
   "execution_count": 0,
   "metadata": {
    "colab": {
     "base_uri": "https://localhost:8080/",
     "height": 306
    },
    "colab_type": "code",
    "id": "sUmTooTW3osf",
    "outputId": "472e41e4-961c-471d-b219-a5150dd8dfab"
   },
   "outputs": [
    {
     "name": "stdout",
     "output_type": "stream",
     "text": [
      "Tue Dec 31 06:23:34 2019       \n",
      "+-----------------------------------------------------------------------------+\n",
      "| NVIDIA-SMI 440.44       Driver Version: 418.67       CUDA Version: 10.1     |\n",
      "|-------------------------------+----------------------+----------------------+\n",
      "| GPU  Name        Persistence-M| Bus-Id        Disp.A | Volatile Uncorr. ECC |\n",
      "| Fan  Temp  Perf  Pwr:Usage/Cap|         Memory-Usage | GPU-Util  Compute M. |\n",
      "|===============================+======================+======================|\n",
      "|   0  Tesla P100-PCIE...  Off  | 00000000:00:04.0 Off |                    0 |\n",
      "| N/A   36C    P0    26W / 250W |      0MiB / 16280MiB |      0%      Default |\n",
      "+-------------------------------+----------------------+----------------------+\n",
      "                                                                               \n",
      "+-----------------------------------------------------------------------------+\n",
      "| Processes:                                                       GPU Memory |\n",
      "|  GPU       PID   Type   Process name                             Usage      |\n",
      "|=============================================================================|\n",
      "|  No running processes found                                                 |\n",
      "+-----------------------------------------------------------------------------+\n"
     ]
    }
   ],
   "source": [
    "!nvidia-smi"
   ]
  },
  {
   "cell_type": "markdown",
   "metadata": {
    "colab_type": "text",
    "id": "0wXB05bPDYxS"
   },
   "source": [
    "## Downloading GPT-2\n",
    "\n",
    "If you're retraining a model on new text, you need to download the GPT-2 model first. \n",
    "\n",
    "There are three released sizes of GPT-2:\n",
    "\n",
    "* `124M` (default): the \"small\" model, 500MB on disk.\n",
    "* `355M`: the \"medium\" model, 1.5GB on disk.\n",
    "* `774M`: the \"large\" model, cannot currently be finetuned with Colaboratory but can be used to generate text from the pretrained model (see later in Notebook)\n",
    "* `1558M`: the \"extra large\", true model. Will not work if a K80 GPU is attached to the notebook. (like `774M`, it cannot be finetuned).\n",
    "\n",
    "Larger models have more knowledge, but take longer to finetune and longer to generate text. You can specify which base model to use by changing `model_name` in the cells below.\n",
    "\n",
    "The next cell downloads it from Google Cloud Storage and saves it in the Colaboratory VM at `/models/<model_name>`.\n",
    "\n",
    "This model isn't permanently saved in the Colaboratory VM; you'll have to redownload it if you want to retrain it at a later time."
   ]
  },
  {
   "cell_type": "code",
   "execution_count": 0,
   "metadata": {
    "colab": {
     "base_uri": "https://localhost:8080/",
     "height": 136
    },
    "colab_type": "code",
    "id": "P8wSlgXoDPCR",
    "outputId": "6dfa9316-110e-4585-a3f7-4a258a43370a"
   },
   "outputs": [
    {
     "name": "stderr",
     "output_type": "stream",
     "text": [
      "Fetching checkpoint: 1.05Mit [00:00, 505Mit/s]                                                      \n",
      "Fetching encoder.json: 1.05Mit [00:00, 115Mit/s]                                                    \n",
      "Fetching hparams.json: 1.05Mit [00:00, 914Mit/s]                                                    \n",
      "Fetching model.ckpt.data-00000-of-00001: 498Mit [00:03, 133Mit/s]                                   \n",
      "Fetching model.ckpt.index: 1.05Mit [00:00, 292Mit/s]                                                \n",
      "Fetching model.ckpt.meta: 1.05Mit [00:00, 155Mit/s]                                                 \n",
      "Fetching vocab.bpe: 1.05Mit [00:00, 124Mit/s]                                                       \n"
     ]
    }
   ],
   "source": [
    "gpt2.download_gpt2(model_name=\"124M\")"
   ]
  },
  {
   "cell_type": "markdown",
   "metadata": {
    "colab_type": "text",
    "id": "N8KXuKWzQSsN"
   },
   "source": [
    "## Mounting Google Drive\n",
    "\n",
    "The best way to get input text to-be-trained into the Colaboratory VM, and to get the trained model *out* of Colaboratory, is to route it through Google Drive *first*.\n",
    "\n",
    "Running this cell (which will only work in Colaboratory) will mount your personal Google Drive in the VM, which later cells can use to get data in/out. (it will ask for an auth code; that auth is not saved anywhere)"
   ]
  },
  {
   "cell_type": "code",
   "execution_count": 0,
   "metadata": {
    "colab": {
     "base_uri": "https://localhost:8080/",
     "height": 34
    },
    "colab_type": "code",
    "id": "puq4iC6vUAHc",
    "outputId": "a6a03c51-9a57-4bb4-a443-f369c9fd254f"
   },
   "outputs": [
    {
     "name": "stdout",
     "output_type": "stream",
     "text": [
      "Drive already mounted at /content/drive; to attempt to forcibly remount, call drive.mount(\"/content/drive\", force_remount=True).\n"
     ]
    }
   ],
   "source": [
    "gpt2.mount_gdrive()"
   ]
  },
  {
   "cell_type": "markdown",
   "metadata": {
    "colab_type": "text",
    "id": "BT__brhBCvJu"
   },
   "source": [
    "## Uploading a Text File to be Trained to Colaboratory\n",
    "\n",
    "In the Colaboratory Notebook sidebar on the left of the screen, select *Files*. From there you can upload files:\n",
    "\n",
    "![alt text](https://i.imgur.com/TGcZT4h.png)\n",
    "\n",
    "Upload **any smaller text file**  (<10 MB) and update the file name in the cell below, then run the cell."
   ]
  },
  {
   "cell_type": "code",
   "execution_count": 0,
   "metadata": {
    "colab": {
     "base_uri": "https://localhost:8080/",
     "height": 34
    },
    "colab_type": "code",
    "id": "G4vZpl6zaOu7",
    "outputId": "a4d889f0-1df9-4640-be6d-76a92ea94404"
   },
   "outputs": [
    {
     "name": "stdout",
     "output_type": "stream",
     "text": [
      "/content/drive/My Drive\n"
     ]
    }
   ],
   "source": [
    "%cd /content/drive/My Drive/"
   ]
  },
  {
   "cell_type": "code",
   "execution_count": 0,
   "metadata": {
    "colab": {},
    "colab_type": "code",
    "id": "CMQ5R8ctdYrT"
   },
   "outputs": [],
   "source": [
    "!mkdir '/content/drive/My Drive/jobposting'"
   ]
  },
  {
   "cell_type": "code",
   "execution_count": 0,
   "metadata": {
    "colab": {},
    "colab_type": "code",
    "id": "kMBATJYWaz1D"
   },
   "outputs": [],
   "source": [
    "import zipfile\n",
    "zip_ref = zipfile.ZipFile(\"/content/drive/My Drive/jobposts.zip\", 'r')\n",
    "zip_ref.extractall('/content/drive/My Drive/jobposting')\n",
    "zip_ref.close()"
   ]
  },
  {
   "cell_type": "code",
   "execution_count": 0,
   "metadata": {
    "colab": {},
    "colab_type": "code",
    "id": "9LS5Y0rQZ_EO"
   },
   "outputs": [],
   "source": [
    "data = pd.read_csv('/content/drive/My Drive/jobposting/data job posts.csv')"
   ]
  },
  {
   "cell_type": "code",
   "execution_count": 0,
   "metadata": {
    "colab": {
     "base_uri": "https://localhost:8080/",
     "height": 598
    },
    "colab_type": "code",
    "id": "s9-ruan7d-xZ",
    "outputId": "0ff5e417-d6a2-43eb-c19b-f64bcb09abd3"
   },
   "outputs": [
    {
     "data": {
      "text/html": [
       "<div>\n",
       "<style scoped>\n",
       "    .dataframe tbody tr th:only-of-type {\n",
       "        vertical-align: middle;\n",
       "    }\n",
       "\n",
       "    .dataframe tbody tr th {\n",
       "        vertical-align: top;\n",
       "    }\n",
       "\n",
       "    .dataframe thead th {\n",
       "        text-align: right;\n",
       "    }\n",
       "</style>\n",
       "<table border=\"1\" class=\"dataframe\">\n",
       "  <thead>\n",
       "    <tr style=\"text-align: right;\">\n",
       "      <th></th>\n",
       "      <th>jobpost</th>\n",
       "      <th>date</th>\n",
       "      <th>Title</th>\n",
       "      <th>Company</th>\n",
       "      <th>AnnouncementCode</th>\n",
       "      <th>Term</th>\n",
       "      <th>Eligibility</th>\n",
       "      <th>Audience</th>\n",
       "      <th>StartDate</th>\n",
       "      <th>Duration</th>\n",
       "      <th>Location</th>\n",
       "      <th>JobDescription</th>\n",
       "      <th>JobRequirment</th>\n",
       "      <th>RequiredQual</th>\n",
       "      <th>Salary</th>\n",
       "      <th>ApplicationP</th>\n",
       "      <th>OpeningDate</th>\n",
       "      <th>Deadline</th>\n",
       "      <th>Notes</th>\n",
       "      <th>AboutC</th>\n",
       "      <th>Attach</th>\n",
       "      <th>Year</th>\n",
       "      <th>Month</th>\n",
       "      <th>IT</th>\n",
       "    </tr>\n",
       "  </thead>\n",
       "  <tbody>\n",
       "    <tr>\n",
       "      <th>0</th>\n",
       "      <td>AMERIA Investment Consulting Company\\r\\nJOB TI...</td>\n",
       "      <td>Jan 5, 2004</td>\n",
       "      <td>Chief Financial Officer</td>\n",
       "      <td>AMERIA Investment Consulting Company</td>\n",
       "      <td>NaN</td>\n",
       "      <td>NaN</td>\n",
       "      <td>NaN</td>\n",
       "      <td>NaN</td>\n",
       "      <td>NaN</td>\n",
       "      <td>NaN</td>\n",
       "      <td>Yerevan, Armenia</td>\n",
       "      <td>AMERIA Investment Consulting Company is seekin...</td>\n",
       "      <td>- Supervises financial management and administ...</td>\n",
       "      <td>To perform this job successfully, an\\r\\nindivi...</td>\n",
       "      <td>NaN</td>\n",
       "      <td>To apply for this position, please submit a\\r\\...</td>\n",
       "      <td>NaN</td>\n",
       "      <td>26 January 2004</td>\n",
       "      <td>NaN</td>\n",
       "      <td>NaN</td>\n",
       "      <td>NaN</td>\n",
       "      <td>2004</td>\n",
       "      <td>1</td>\n",
       "      <td>False</td>\n",
       "    </tr>\n",
       "    <tr>\n",
       "      <th>1</th>\n",
       "      <td>International Research &amp; Exchanges Board (IREX...</td>\n",
       "      <td>Jan 7, 2004</td>\n",
       "      <td>Full-time Community Connections Intern (paid i...</td>\n",
       "      <td>International Research &amp; Exchanges Board (IREX)</td>\n",
       "      <td>NaN</td>\n",
       "      <td>NaN</td>\n",
       "      <td>NaN</td>\n",
       "      <td>NaN</td>\n",
       "      <td>NaN</td>\n",
       "      <td>3 months</td>\n",
       "      <td>IREX Armenia Main Office; Yerevan, Armenia \\r\\...</td>\n",
       "      <td>NaN</td>\n",
       "      <td>NaN</td>\n",
       "      <td>- Bachelor's Degree; Master's is preferred;\\r\\...</td>\n",
       "      <td>NaN</td>\n",
       "      <td>Please submit a cover letter and resume to:\\r\\...</td>\n",
       "      <td>NaN</td>\n",
       "      <td>12 January 2004</td>\n",
       "      <td>NaN</td>\n",
       "      <td>The International Research &amp; Exchanges Board (...</td>\n",
       "      <td>NaN</td>\n",
       "      <td>2004</td>\n",
       "      <td>1</td>\n",
       "      <td>False</td>\n",
       "    </tr>\n",
       "    <tr>\n",
       "      <th>2</th>\n",
       "      <td>Caucasus Environmental NGO Network (CENN)\\r\\nJ...</td>\n",
       "      <td>Jan 7, 2004</td>\n",
       "      <td>Country Coordinator</td>\n",
       "      <td>Caucasus Environmental NGO Network (CENN)</td>\n",
       "      <td>NaN</td>\n",
       "      <td>NaN</td>\n",
       "      <td>NaN</td>\n",
       "      <td>NaN</td>\n",
       "      <td>NaN</td>\n",
       "      <td>Renewable annual contract\\r\\nPOSITION</td>\n",
       "      <td>Yerevan, Armenia</td>\n",
       "      <td>Public outreach and strengthening of a growing...</td>\n",
       "      <td>- Working with the Country Director to provide...</td>\n",
       "      <td>- Degree in environmentally related field, or ...</td>\n",
       "      <td>NaN</td>\n",
       "      <td>Please send resume or CV toursula.kazarian@......</td>\n",
       "      <td>NaN</td>\n",
       "      <td>20 January 2004\\r\\nSTART DATE:  February 2004</td>\n",
       "      <td>NaN</td>\n",
       "      <td>The Caucasus Environmental NGO Network is a\\r\\...</td>\n",
       "      <td>NaN</td>\n",
       "      <td>2004</td>\n",
       "      <td>1</td>\n",
       "      <td>False</td>\n",
       "    </tr>\n",
       "    <tr>\n",
       "      <th>3</th>\n",
       "      <td>Manoff Group\\r\\nJOB TITLE:  BCC Specialist\\r\\n...</td>\n",
       "      <td>Jan 7, 2004</td>\n",
       "      <td>BCC Specialist</td>\n",
       "      <td>Manoff Group</td>\n",
       "      <td>NaN</td>\n",
       "      <td>NaN</td>\n",
       "      <td>NaN</td>\n",
       "      <td>NaN</td>\n",
       "      <td>NaN</td>\n",
       "      <td>NaN</td>\n",
       "      <td>Manila, Philippines</td>\n",
       "      <td>The LEAD (Local Enhancement and Development fo...</td>\n",
       "      <td>- Identify gaps in knowledge and overseeing in...</td>\n",
       "      <td>- Advanced degree in public health, social sci...</td>\n",
       "      <td>NaN</td>\n",
       "      <td>Please send cover letter and resume to Amy\\r\\n...</td>\n",
       "      <td>NaN</td>\n",
       "      <td>23 January 2004\\r\\nSTART DATE:  Immediate</td>\n",
       "      <td>NaN</td>\n",
       "      <td>NaN</td>\n",
       "      <td>NaN</td>\n",
       "      <td>2004</td>\n",
       "      <td>1</td>\n",
       "      <td>False</td>\n",
       "    </tr>\n",
       "    <tr>\n",
       "      <th>4</th>\n",
       "      <td>Yerevan Brandy Company\\r\\nJOB TITLE:  Software...</td>\n",
       "      <td>Jan 10, 2004</td>\n",
       "      <td>Software Developer</td>\n",
       "      <td>Yerevan Brandy Company</td>\n",
       "      <td>NaN</td>\n",
       "      <td>NaN</td>\n",
       "      <td>NaN</td>\n",
       "      <td>NaN</td>\n",
       "      <td>NaN</td>\n",
       "      <td>NaN</td>\n",
       "      <td>Yerevan, Armenia</td>\n",
       "      <td>NaN</td>\n",
       "      <td>- Rendering technical assistance to Database M...</td>\n",
       "      <td>- University degree; economical background is ...</td>\n",
       "      <td>NaN</td>\n",
       "      <td>Successful candidates should submit\\r\\n- CV; \\...</td>\n",
       "      <td>NaN</td>\n",
       "      <td>20 January 2004, 18:00</td>\n",
       "      <td>NaN</td>\n",
       "      <td>NaN</td>\n",
       "      <td>NaN</td>\n",
       "      <td>2004</td>\n",
       "      <td>1</td>\n",
       "      <td>True</td>\n",
       "    </tr>\n",
       "  </tbody>\n",
       "</table>\n",
       "</div>"
      ],
      "text/plain": [
       "                                             jobpost  ...     IT\n",
       "0  AMERIA Investment Consulting Company\\r\\nJOB TI...  ...  False\n",
       "1  International Research & Exchanges Board (IREX...  ...  False\n",
       "2  Caucasus Environmental NGO Network (CENN)\\r\\nJ...  ...  False\n",
       "3  Manoff Group\\r\\nJOB TITLE:  BCC Specialist\\r\\n...  ...  False\n",
       "4  Yerevan Brandy Company\\r\\nJOB TITLE:  Software...  ...   True\n",
       "\n",
       "[5 rows x 24 columns]"
      ]
     },
     "execution_count": 8,
     "metadata": {
      "tags": []
     },
     "output_type": "execute_result"
    }
   ],
   "source": [
    "data.head()"
   ]
  },
  {
   "cell_type": "markdown",
   "metadata": {
    "colab_type": "text",
    "id": "HeeSKtNWUedE"
   },
   "source": [
    "If your text file is larger than 10MB, it is recommended to upload that file to Google Drive first, then copy that file from Google Drive to the Colaboratory VM."
   ]
  },
  {
   "cell_type": "code",
   "execution_count": 0,
   "metadata": {
    "colab": {
     "base_uri": "https://localhost:8080/",
     "height": 204
    },
    "colab_type": "code",
    "id": "6OFnPCLADfll",
    "outputId": "4da0c61c-5687-4e58-c8a8-90c1a32122d5"
   },
   "outputs": [
    {
     "data": {
      "text/html": [
       "<div>\n",
       "<style scoped>\n",
       "    .dataframe tbody tr th:only-of-type {\n",
       "        vertical-align: middle;\n",
       "    }\n",
       "\n",
       "    .dataframe tbody tr th {\n",
       "        vertical-align: top;\n",
       "    }\n",
       "\n",
       "    .dataframe thead th {\n",
       "        text-align: right;\n",
       "    }\n",
       "</style>\n",
       "<table border=\"1\" class=\"dataframe\">\n",
       "  <thead>\n",
       "    <tr style=\"text-align: right;\">\n",
       "      <th></th>\n",
       "      <th>Title</th>\n",
       "      <th>JobDescription</th>\n",
       "      <th>JobRequirment</th>\n",
       "    </tr>\n",
       "  </thead>\n",
       "  <tbody>\n",
       "    <tr>\n",
       "      <th>0</th>\n",
       "      <td>Chief Financial Officer</td>\n",
       "      <td>AMERIA Investment Consulting Company is seekin...</td>\n",
       "      <td>- Supervises financial management and administ...</td>\n",
       "    </tr>\n",
       "    <tr>\n",
       "      <th>1</th>\n",
       "      <td>Full-time Community Connections Intern (paid i...</td>\n",
       "      <td>NaN</td>\n",
       "      <td>NaN</td>\n",
       "    </tr>\n",
       "    <tr>\n",
       "      <th>2</th>\n",
       "      <td>Country Coordinator</td>\n",
       "      <td>Public outreach and strengthening of a growing...</td>\n",
       "      <td>- Working with the Country Director to provide...</td>\n",
       "    </tr>\n",
       "    <tr>\n",
       "      <th>3</th>\n",
       "      <td>BCC Specialist</td>\n",
       "      <td>The LEAD (Local Enhancement and Development fo...</td>\n",
       "      <td>- Identify gaps in knowledge and overseeing in...</td>\n",
       "    </tr>\n",
       "    <tr>\n",
       "      <th>4</th>\n",
       "      <td>Software Developer</td>\n",
       "      <td>NaN</td>\n",
       "      <td>- Rendering technical assistance to Database M...</td>\n",
       "    </tr>\n",
       "  </tbody>\n",
       "</table>\n",
       "</div>"
      ],
      "text/plain": [
       "                                               Title  ...                                      JobRequirment\n",
       "0                            Chief Financial Officer  ...  - Supervises financial management and administ...\n",
       "1  Full-time Community Connections Intern (paid i...  ...                                                NaN\n",
       "2                                Country Coordinator  ...  - Working with the Country Director to provide...\n",
       "3                                     BCC Specialist  ...  - Identify gaps in knowledge and overseeing in...\n",
       "4                                 Software Developer  ...  - Rendering technical assistance to Database M...\n",
       "\n",
       "[5 rows x 3 columns]"
      ]
     },
     "execution_count": 9,
     "metadata": {
      "tags": []
     },
     "output_type": "execute_result"
    }
   ],
   "source": [
    "cols = ['Title', 'JobDescription', 'JobRequirment']\n",
    "df=data[cols]\n",
    "df.head(5)"
   ]
  },
  {
   "cell_type": "code",
   "execution_count": 0,
   "metadata": {
    "colab": {},
    "colab_type": "code",
    "id": "s_44CZo_hJ7z"
   },
   "outputs": [],
   "source": [
    "np.savetxt('/content/drive/My Drive/jobposting/job_descrption.txt', df.values, fmt='%s')"
   ]
  },
  {
   "cell_type": "code",
   "execution_count": 0,
   "metadata": {
    "colab": {},
    "colab_type": "code",
    "id": "rXarlDQwk8so"
   },
   "outputs": [],
   "source": [
    "#job_descrption = job_descrption.txt"
   ]
  },
  {
   "cell_type": "code",
   "execution_count": 0,
   "metadata": {
    "colab": {},
    "colab_type": "code",
    "id": "-Z6okFD8VKtS"
   },
   "outputs": [],
   "source": [
    "#gpt2.copy_file_from_gdrive('jobposting/np.txt')"
   ]
  },
  {
   "cell_type": "markdown",
   "metadata": {
    "colab_type": "text",
    "id": "LdpZQXknFNY3"
   },
   "source": [
    "## Finetune GPT-2\n",
    "\n",
    "The next cell will start the actual finetuning of GPT-2. It creates a persistent TensorFlow session which stores the training config, then runs the training for the specified number of `steps`. (to have the finetuning run indefinitely, set `steps = -1`)\n",
    "\n",
    "The model checkpoints will be saved in `/checkpoint/run1` by default. The checkpoints are saved every 500 steps (can be changed) and when the cell is stopped.\n",
    "\n",
    "The training might time out after 4ish hours; make sure you end training and save the results so you don't lose them!\n",
    "\n",
    "**IMPORTANT NOTE:** If you want to rerun this cell, **restart the VM first** (Runtime -> Restart Runtime). You will need to rerun imports but not recopy files.\n",
    "\n",
    "Other optional-but-helpful parameters for `gpt2.finetune`:\n",
    "\n",
    "\n",
    "*  **`restore_from`**: Set to `fresh` to start training from the base GPT-2, or set to `latest` to restart training from an existing checkpoint.\n",
    "* **`sample_every`**: Number of steps to print example output\n",
    "* **`print_every`**: Number of steps to print training progress.\n",
    "* **`learning_rate`**:  Learning rate for the training. (default `1e-4`, can lower to `1e-5` if you have <1MB input data)\n",
    "*  **`run_name`**: subfolder within `checkpoint` to save the model. This is useful if you want to work with multiple models (will also need to specify  `run_name` when loading the model)\n",
    "* **`overwrite`**: Set to `True` if you want to continue finetuning an existing model (w/ `restore_from='latest'`) without creating duplicate copies. "
   ]
  },
  {
   "cell_type": "code",
   "execution_count": 0,
   "metadata": {
    "colab": {
     "base_uri": "https://localhost:8080/",
     "height": 1000
    },
    "colab_type": "code",
    "id": "aeXshJM-Cuaf",
    "outputId": "853455cd-37ae-4553-b64e-31848283e20c"
   },
   "outputs": [
    {
     "name": "stdout",
     "output_type": "stream",
     "text": [
      "WARNING:tensorflow:From /usr/local/lib/python3.6/dist-packages/gpt_2_simple/src/sample.py:17: where (from tensorflow.python.ops.array_ops) is deprecated and will be removed in a future version.\n",
      "Instructions for updating:\n",
      "Use tf.where in 2.0, which has the same broadcast rule as np.where\n",
      "Loading checkpoint models/124M/model.ckpt\n",
      "INFO:tensorflow:Restoring parameters from models/124M/model.ckpt\n"
     ]
    },
    {
     "name": "stderr",
     "output_type": "stream",
     "text": [
      "\r",
      "  0%|          | 0/1 [00:00<?, ?it/s]"
     ]
    },
    {
     "name": "stdout",
     "output_type": "stream",
     "text": [
      "Loading dataset...\n"
     ]
    },
    {
     "name": "stderr",
     "output_type": "stream",
     "text": [
      "\r",
      "100%|██████████| 1/1 [00:14<00:00, 14.06s/it]\n"
     ]
    },
    {
     "name": "stdout",
     "output_type": "stream",
     "text": [
      "dataset has 3260989 tokens\n",
      "Training...\n",
      "[100 | 130.94] loss=2.98 avg=2.98\n",
      "[200 | 255.62] loss=2.58 avg=2.78\n",
      "======== SAMPLE 1 ========\n",
      " by the Government of Armenia\n",
      "and to the extent necessary to ensure their implementation.\n",
      "Senior Project Lead (Senior Project Manager) The Senior Project Manager is responsible for the\n",
      "maintenance of quality standards and project activities as requested by the\n",
      "Agenda, Development and Evaluation, the Central Bank of\n",
      "Armenia (CBSA), the RA legislation and/ or relevant legislation,\n",
      "both the Legislation of Armenia for the purpose of developing\n",
      "and evaluating the project and ensuring the implementation within\n",
      "established deadlines and budgets within the scope of the\n",
      "Armenia project. He/ she is responsible for the planning and\n",
      "implementation, including budgeting, financial and project\n",
      "activities and activities, financial reporting and reporting, as well as\n",
      "management of project operations. He/ she is also responsible for development\n",
      "and evaluation of project related activities and for the\n",
      "management of all activities implemented as required by the Project\n",
      "Plan and Agreements. - Manage the activities under supervision of the Project Manager;\n",
      "- Conduct meetings, make presentations, present materials, submit\n",
      "reports and receive comments on the project documents;\n",
      "- Participate in coordination, evaluation and follow-up of the\n",
      "Project activities;\n",
      "- Organize and implement project works;\n",
      "- Work with the project team;\n",
      "- Take part in the evaluation;\n",
      "- Manage project activities;\n",
      "- Manage team relationships;\n",
      "- Provide inputs and opinions on project issues to the Project\n",
      "Manager, to ensure that they are supported by relevant and duly\n",
      "accurate information;\n",
      "- Participate in the development and interpretation of Agreements and\n",
      "Agreements;\n",
      "- Negotiate in a timely manner with relevant and duly\n",
      "accurate source materials to the satisfaction of the Project\n",
      "Manager;\n",
      "- Prepare reports to ensure that Project Manager and team work in a\n",
      "competitive and timely manner, without delay, with complete\n",
      "availability;\n",
      "- Review and review all documents relating to the project\n",
      "functioning, documentation of the project, documentation of the\n",
      "implementation and work flows, and all other internal requirements;\n",
      "- Prepare and present financial reports and other information, including\n",
      "the financial status, expenditures and revenues, cash flow,\n",
      "budgeting, and cash payments for activities, if applicable;\n",
      "- Responsible for the development and implementation of the project\n",
      "programming, operational and financial systems, as well as\n",
      "contracts, contracts, contracts, and other technical documents;\n",
      "- Responsible for the management of project activities with the\n",
      "local and international partners and of other project related groups within\n",
      "Armenia;\n",
      "- Responsible for the preparation of monthly, weekly and monthly\n",
      "provisional reports;\n",
      "- Responsible for the elaboration and revision of project plans, as per\n",
      "the required design and technical specifications;\n",
      "- Responsible for the maintenance and expansion of the existing program\n",
      "facilities;\n",
      "- Participate in finalization of the project management plan and in the\n",
      "review of technical documentation.\n",
      "Administrative Assistant (AFA) Department Head nan - Answer telephone calls; \n",
      "- Answer incoming and outgoing mail; \n",
      "- Prepare faxes, e-mails, e-mail and other forms;  \n",
      "- Maintain office computers;\n",
      "- Maintain office files;\n",
      "- Keep up-to-date with the local day-to-day affairs.\n",
      "Credit Officer We are looking for a qualified and experienced person\n",
      "to provide leadership, coordination of operations and coordination of\n",
      "financial processes under supervision of the credit officers and all\n",
      "other tasks assigned by the Credit Officer;\n",
      "- Analyze potential and existing customers; \n",
      "- Organize collection of payment information; \n",
      "- Prepare, submit and check for the credit cards of customers;\n",
      "- Maintain credit records of customers; \n",
      "- Translate from English to Armenian and vice versa, as\n",
      "required;\n",
      "- Check account of accounts payable to customers and credit cards in the\n",
      "Bank.\n",
      "Office Manager Responsible for organizing and organizing\n",
      "corporate meetings and preparing corporate documentation; \n",
      "- Manage staff in accordance with established policies and practices and provide\n",
      "assistance and cooperation with other departments;\n",
      "- Manage personnel in compliance with the established policies and\n",
      "procedures; \n",
      "- Conduct office visits and provide information to employees upon\n",
      "requests;\n",
      "- Ensure that the staff is safe; \n",
      "- Organize and oversee the implementation of the office operations including\n",
      "preparing documents in the office (e.g. contracts, correspondence, etc.); \n",
      "- Handle office personnel and work according to established procedures; \n",
      "- Maintain office computers; \n",
      "- Follow-up on the status of the computer systems as it is being used, when the\n",
      "service is requested by employee and the staff;\n",
      "- Attend weekly inspection and maintain records of the computers;\n",
      "- Prepare payroll reports; \n",
      "- Perform other tasks assigned by employee and supervisor.\n",
      "Cashier The incumbent will provide service to various clients\n",
      "in Yerevan in accordance with established procedures and standards, maintain\n",
      "customer\n",
      "\n",
      "[300 | 390.11] loss=2.35 avg=2.63\n",
      "[400 | 514.86] loss=2.53 avg=2.61\n",
      "======== SAMPLE 1 ========\n",
      " SQL\n",
      "documentation;\n",
      "- Participate in the development cycle of the company's projects;\n",
      "- Produce and maintain documentation of company's data;\n",
      "- Work as an intern or a full-time part-time on a\n",
      "project basis;\n",
      "- Participate in discussions regarding the company's IT infrastructure\n",
      "related issues;\n",
      "- Communicate with the management and technical personnel of the\n",
      "company and with external external organizations.\n",
      "Marketing Specialist for Retail Brand Management nan - Identify the target customers, gain and monitor customers'\n",
      "consistencies;\n",
      "- Evaluate the customer's performance and follow up on\n",
      "sales;\n",
      "- Plan and implement the activities of the Sales Representative;\n",
      "- Analyze market data sources for market research.\n",
      "Sales Agent/ Specialist nan - Manage and execute the sales promotion with regular contacts;\n",
      "- Manage all sales activities;\n",
      "- Establish and maintain customer loyalty towards the Company;\n",
      "- Participate in all sales and marketing events;\n",
      "- Maintain the Company's social media presence;\n",
      "- Perform and organize the sales calls and promotional messages;\n",
      "- Provide sales support on a regular basis.\n",
      "Sales Specialist - Responsible for marketing and PR campaigns for retail\n",
      "brand management;\n",
      "- Maintain regular contacts in the area;\n",
      "- Conduct market research;\n",
      "- Develop strategic sales proposals.\n",
      "Teller/ Agent for Retail Brand Management nan - Understand and implement the companys marketing strategy;\n",
      "- Plan and execute sales presentations;\n",
      "- Collect, gather and track current and potential customers;\n",
      "- Calculate and organize targets and take action towards achieving  \n",
      "strategy objectives;\n",
      "- Maintain contact with potential clients.\n",
      "Translator The Translator will be primarily responsible for\n",
      "recording/ translating related, written and verbal information. - Ensure uninterrupted translation and writing of written and verbal\n",
      "translations from/ to Spanish/ Russian languages;\n",
      "- Maintain and coordinate data entry and reporting;\n",
      "- Arrange transportation between offices and/ to the clients.\n",
      "Financial Department Senior Financial Assistant Armenian Office of the UN Office in Yerevan is proposing an\n",
      "enthusiastic individual for the position of the position of Financial\n",
      "Department Senior Financial Assistant focusing on the provision of\n",
      "financial services. The financial specialist will assist in\n",
      "understanding and implementing Financial transactions management and\n",
      "financial procedures. - Ensure all financial arrangements are maintained and updated in\n",
      "accordance with the Organization and procedures;\n",
      "- Ensure financial procedures are carried out according to internal\n",
      "laws, policies, procedures and policies in accordance with the RA\n",
      "organization and rules and regulations;\n",
      "- Handle regular cash operations from the office for cashiers:\n",
      "- Collect and process all kinds of bank transactions in a high\n",
      "level of accuracy from relevant donor organizations and distribute money\n",
      "for such operations to the donor organizations for collection;\n",
      "- Provide support to the internal control system to ensure proper implementation\n",
      "of bank transactions;\n",
      "- Provide necessary bank information for all internal and external donors to\n",
      "propose or suggest changes;\n",
      "- Maintain and update documents, bank records and financial files;\n",
      "- Translate financial materials and documents for the Office as well as\n",
      "all external related procedures;\n",
      "- Provide support and assistance, if requested, to ensure the timely\n",
      "reconciliation of funds lost or damaged to the donor/ donor organizations as a\n",
      "matter of urgency;\n",
      "- Provide assistance and assistance to office staff as required;\n",
      "- Serve as liaison with the RA Internal Revenue Service in the\n",
      "following areas: budget management, tax compliance and other internal\n",
      "further;\n",
      "- Work out payment and receivable procedures, prepare payment orders and\n",
      "process payments and processing payments;\n",
      "- Work out payment procedures and make necessary adjustments;\n",
      "- Conduct other duties, as may be requested by the Head of Finance and/ or\n",
      "Thematic Development (HIV/AIDS)\n",
      "department;\n",
      "- Analyze and make recommendations for changes;\n",
      "- Manage the work of Office staff (including accounting staff and\n",
      "administrative assistants) involved in the project related activities,\n",
      "including the implementation of internal budget management in accordance with\n",
      "the requirements of the Organization.\n",
      "Receptionist for Marketing Department Armenias-Armenias Service Center offers the highest\n",
      "quality of service and products in terms of atmosphere, amenities and\n",
      "ability to meet client needs with the highest quality service. - Receive the client's questions via phone or e-mail;\n",
      "- Answer telephone calls and emails;\n",
      "- Provide a general view of organization's products and services.\n",
      "Accountant The Accountant will carry out a wide variety\n",
      "accounting and financial activities. - Prepare and maintain monthly, quarterly, annually financial\n",
      "reports on a timely basis;\n",
      "- Prepare monthly payroll and reports on a timely basis.\n",
      "Accountant The Accountant will carry out a wide variety\n",
      "accounting and financial activities. - Prepare monthly, quarterly and annually financial reports using\n",
      "the latest accounting standards and internal financial procedures;\n",
      "- Maintain and review bank records, maintain their completeness and\n",
      "\n",
      "[500 | 648.41] loss=2.74 avg=2.63\n",
      "Saving checkpoint/run1/model-500\n",
      "[600 | 775.93] loss=2.41 avg=2.59\n",
      "======== SAMPLE 1 ========\n",
      " necessary for future\n",
      "development: \n",
      "- Design, develop and test software for business applications based on\n",
      "existing requirements;  \n",
      "- Monitor and document the use cases of software products for their\n",
      "performance; \n",
      "- Demonstrate teamwork with other developers to support their projects;\n",
      "- Be proactive in attracting new business;\n",
      "- Work as part of a software development team; \n",
      "- Work closely with other developers and designers to design new\n",
      "features and performance improvements;\n",
      "- Be flexible in learning new technologies (hardcopy and electronic\n",
      "machines, new technologies, etc.); \n",
      "- Learn new skills and become a professional developer.\n",
      "Senior Software Development Team Leader nan - Establish the process of software product development (SaaS, 3rd party\n",
      "applications, application architectures, etc.);\n",
      "- Design, document and develop quality, scalable, high performance,\n",
      "transaction quality, bug fixing and performance/ compatibility issues;\n",
      "- Provide leadership and management expertise to ensure the quality of\n",
      "the products, as well as the quality of the solutions implemented;\n",
      "- Work with other team members to plan, design, perform, scale up\n",
      "complex applications;\n",
      "- Monitor and plan the development process and ensure the high level of\n",
      "quality for both the product and the existing team;\n",
      "- Work closely with other team members to deliver agile and fast solutions within\n",
      "the defined timeframes;\n",
      "- Develop and deploy test plans from the ground up, both for testing and\n",
      "pre-testing the application;\n",
      "- Develop the tests case using Backoffice and Agile;\n",
      "- Deploy to production and test the results in a timely and accurate manner;\n",
      "- Be responsible for the testing of the required features to ensure the test\n",
      "quality;\n",
      "- Work closely with the agile team to define, plan, and schedule the\n",
      "maintenance and enhancement activities.\n",
      "Program Manager The Program Manager will manage and oversee the\n",
      "development of high performance web based applications and will\n",
      "focus specifically on quality and quality. - Develop software;\n",
      "- Provide support to software development processes and process;\n",
      "- Implement new software as required.\n",
      "Chief Accountant nan - Manage accounting for all accounting and petty cash activities;\n",
      "- Develop accounting software packages, as needed;\n",
      "- Ensure the accuracy and completeness of accounting documents;\n",
      "- Ensure financial reporting requirements are clearly defined; \n",
      "- Supervise, supervise and evaluate staff; \n",
      "- Plan financial operations in line with established accounting policies and\n",
      "procedures;   \n",
      "- Ensure adherence to budget and accounting policies and procedures;\n",
      "- Be responsible for day-to-day accountant duties;\n",
      "- Maintain the cash register to facilitate transactions and the bank accounts.\n",
      "Sales and Employment Manager The company is seeking a specialist to\n",
      "manage personnel and ensure proper management of personnel, processes and\n",
      "management of the companys premises by developing, overseeing and implementing\n",
      "sales and employee relations to keep company operational in line with\n",
      "company policies and procedures. - Build the sales and employment relationship with the team;\n",
      "- Work with local management to identify any potential employment\n",
      "applicable to the company's territory;\n",
      "- Monitor the staff turnover;\n",
      "- Responsible for personnel performance evaluation;\n",
      "- Ensure all personnel policies and procedures have been followed;\n",
      "- Assist in the planning of an employee employment plan, work plan and\n",
      "periodic salary calculation for personnel;\n",
      "- Manage the internal and guest service departments, including HR department;\n",
      "- Support staff in developing policies and procedures for all staff;\n",
      "- Develop and implement employee relations;\n",
      "- Ensure all employees attendance and training and disciplinary actions\n",
      "are properly trained;\n",
      "- Coordinate employee's working hours of shifts and supervise employees to\n",
      "ensure proper performance;\n",
      "- Responsible for employee safety and compliance and\n",
      "policies;\n",
      "- Assist in maintaining a safe working environment with employees, as well\n",
      "as maintaining employee safety, welfare and all employee related equipment\n",
      "and facilities;\n",
      "- Assist in improving employee and customer satisfaction and safety\n",
      "management;\n",
      "- Follow up with all staffing requirements;\n",
      "- Coordinate and review staff training schedules;\n",
      "- Conduct training on employee attendance and safety policy,\n",
      "appropriate responses and ensure it is made appropriately;\n",
      "- Assist in planning future employee trainings as required;\n",
      "- Work with management and sales to plan employees benefits and performance\n",
      "planning;\n",
      "- Responsible for trainings and development of personnel, policies and\n",
      "practices for all employees;\n",
      "- Develop employee loyalty and performance standards.\n",
      "Medical Representative \"Armani\" Inc. is looking for a Medical and PR Manager to\n",
      "ensure proper implementation of Medco program activities. The Medical and PR\n",
      "Manager works under the guidance of the medical coordinator of the\n",
      "company and as a member of the team. He/ she will be responsible for\n",
      "providing a comprehensive coverage of the companys medical services. - Coordinate all necessary communications with key medical and\n",
      "professional organizations;\n",
      "- Contribute to the development and implementation of\n",
      "\n",
      "[700 | 910.05] loss=2.48 avg=2.58\n",
      "[800 | 1035.01] loss=2.32 avg=2.54\n",
      "======== SAMPLE 1 ========\n",
      " requested,\n",
      "coordinate and process all project and administrative support and\n",
      "applications;\n",
      "- Assist in preparing the procurement policies (for which the project is\n",
      "prioritized up to date according to the documents in the\n",
      "Armenian Legislation);\n",
      "- Prepare and submit required reports to the project office on a\n",
      "regular basis; \n",
      "- Participate in, participate in and follow up of project teams, meet\n",
      "internal and external team officials, as well as in any other\n",
      "interaction or development related to project objectives and\n",
      "process as assigned.\n",
      "Marketing Specialist CBA in Armenia is looking for a Marketing Specialist to\n",
      "work in the Department's office. - Promote, develop and monitor companys brand strategies and corporate\n",
      "processes;\n",
      "- Be responsible for public relations, including website and Facebook;\n",
      "- Make and/ or participate in meetings with local management (for\n",
      "private or public events);\n",
      "- Responsible for project communication including posting on social networking\n",
      "websites, taking photos and posting on blog, etc.;\n",
      "- Develop and implement marketing communications activities in line with the\n",
      "company plan (e.g. newsletter, website and social posts);\n",
      "- Design advertising campaigns and create advertisement material for\n",
      "company products and services to promote the company's products and\n",
      "services.\n",
      "R&D Engineer The incumbent will have a long-term creative project\n",
      "life cycle, and an initial year of development on-job training. The\n",
      "incumbent will also be involved in designing the hardware, software and\n",
      "development of the application components. - Participate in software design;\n",
      "- Participate in testing.\n",
      "Translator The Translator will be responsible for writing and\n",
      "translating different types of documents on various topics like\n",
      "legal framework, regulation, regulations. - Translate different types of correspondence;\n",
      "- Arrange interviews;\n",
      "- Complete various forms, such as translation of different types of\n",
      "forms in different languages;\n",
      "- Make translations (with assistance) of various formats from/ to\n",
      "Armenian/ English/ Russian;\n",
      "- Prepare documentation and maintain documents.\n",
      "Database Developer \"Ixibitrade\" CJSC is seeking for a qualified person with\n",
      "technical and creative mind to fulfill the position of an\n",
      "experienced professional for the position of Database Developer. - Develop and maintain database schema;\n",
      "- Develop functional and cleanly understood code;\n",
      "- Troubleshoot, fix and optimize code;\n",
      "- Troubleshoot, optimize and clean up code quality issues.\n",
      "English Language Teacher nan - Ensure the educational use of the language; \n",
      "- Attend and follow the daily work of students in the classroom.\n",
      "Rural Roads Specialist \"Energize Global Services\" is looking for a Rural Roads\n",
      "Specialist to be engaged in the development of a Rural Roads strategy\n",
      "that will lead to improved development and market access for farm\n",
      "development projects. nan\n",
      "Senior QA Engineer in PHP/ MySQL A group of experienced professional people\n",
      "with strong QA skills is involved in development of a new\n",
      "software used by the organization. The main responsibilities of the incumbent\n",
      "are the following: \n",
      "- Develop a comprehensive software test framework using PHP and MySQL;\n",
      "- Create test cases; \n",
      "- Understand and follow the technical documentation, the steps of the\n",
      "processes involved and the software applications used in the\n",
      "development.\n",
      "PHP Developers A small team of experienced developers is responsible\n",
      "for defining features and working on application level with\n",
      "leading software developers to produce high quality and clean code. The\n",
      "incumbent will be responsible for testing and debugging new web-based\n",
      "applications and developing its documentation. - Develop new and improved ways of developing and/ or web-based\n",
      "applications;\n",
      "- Work closely with the team lead on the development effort and ensure\n",
      "the quality;\n",
      "- Work closely with product development to understand requirements and design\n",
      "practices, and work out issues;\n",
      "- Identify, reproduce and report bugs;\n",
      "- Work closely with the team to understand and resolve problems;\n",
      "- Work on complex issues where analysis of the problems requires\n",
      "an in-depth evaluation of systems implementations and/ or\n",
      "functional specification;\n",
      "- Contribute to a better code quality;\n",
      "- Share knowledge, mentor peers, listen and hear team members positions\n",
      "and opinions;\n",
      "- Ability to deal with management, and be part of a very dynamic\n",
      "team.\n",
      "Senior Frontend Developer, Web UI & Frontend Development The Senior Frontend Developer will take part in\n",
      "overall Frontend design aspects. - Lead a team of UI/ UI Engineers that collaborates to define, manage\n",
      "and implement front-end functionalities of a business application\n",
      "and its rich rich user community;\n",
      "- Manage work-in-process and deliver a functional product to meet\n",
      "scheduled deadlines;\n",
      "- Create, maintain and maintain cutting edge technologies to support\n",
      "sustainable use of the development resources;\n",
      "- Lead a team to ensure the quality of the code, communicate clear\n",
      "communication and\n",
      "\n",
      "[900 | 1169.15] loss=2.41 avg=2.53\n",
      "[1000 | 1294.11] loss=2.06 avg=2.48\n",
      "Saving checkpoint/run1/model-1000\n",
      "WARNING:tensorflow:From /usr/local/lib/python3.6/dist-packages/tensorflow_core/python/training/saver.py:963: remove_checkpoint (from tensorflow.python.training.checkpoint_management) is deprecated and will be removed in a future version.\n",
      "Instructions for updating:\n",
      "Use standard file APIs to delete files with this prefix.\n"
     ]
    }
   ],
   "source": [
    "sess = gpt2.start_tf_sess()\n",
    "\n",
    "gpt2.finetune(sess,\n",
    "              dataset='descrption.txt',\n",
    "              model_name='124M',\n",
    "              steps=1000,\n",
    "              restore_from='fresh',\n",
    "              run_name='run1',\n",
    "              print_every=100,\n",
    "              sample_every=200,\n",
    "              save_every=500\n",
    "              )"
   ]
  },
  {
   "cell_type": "markdown",
   "metadata": {
    "colab_type": "text",
    "id": "IXSuTNERaw6K"
   },
   "source": [
    "After the model is trained, you can copy the checkpoint folder to your own Google Drive.\n",
    "\n",
    "If you want to download it to your personal computer, it's strongly recommended you copy it there first, then download from Google Drive. The checkpoint folder is copied as a `.rar` compressed file; you can download it and uncompress it locally."
   ]
  },
  {
   "cell_type": "code",
   "execution_count": 0,
   "metadata": {
    "colab": {},
    "colab_type": "code",
    "id": "VHdTL8NDbAh3"
   },
   "outputs": [],
   "source": [
    "gpt2.copy_checkpoint_to_gdrive(run_name='run1')"
   ]
  },
  {
   "cell_type": "markdown",
   "metadata": {
    "colab_type": "text",
    "id": "qQJgV_b4bmzd"
   },
   "source": [
    "You're done! Feel free to go to the **Generate Text From The Trained Model** section to generate text based on your retrained model."
   ]
  },
  {
   "cell_type": "markdown",
   "metadata": {
    "colab_type": "text",
    "id": "pel-uBULXO2L"
   },
   "source": [
    "## Load a Trained Model Checkpoint\n",
    "\n",
    "Running the next cell will copy the `.rar` checkpoint file from your Google Drive into the Colaboratory VM."
   ]
  },
  {
   "cell_type": "code",
   "execution_count": 0,
   "metadata": {
    "colab": {},
    "colab_type": "code",
    "id": "DCcx5u7sbPTD"
   },
   "outputs": [],
   "source": [
    "gpt2.copy_checkpoint_from_gdrive(run_name='run1')"
   ]
  },
  {
   "cell_type": "markdown",
   "metadata": {
    "colab_type": "text",
    "id": "RTa6zf3e_9gV"
   },
   "source": [
    "The next cell will allow you to load the retrained model checkpoint + metadata necessary to generate text.\n",
    "\n",
    "**IMPORTANT NOTE:** If you want to rerun this cell, **restart the VM first** (Runtime -> Restart Runtime). You will need to rerun imports but not recopy files."
   ]
  },
  {
   "cell_type": "code",
   "execution_count": 0,
   "metadata": {
    "colab": {
     "base_uri": "https://localhost:8080/",
     "height": 51
    },
    "colab_type": "code",
    "id": "-fxL77nvAMAX",
    "outputId": "9d881b72-c741-4b7d-ee32-02ab8f032c6c"
   },
   "outputs": [
    {
     "name": "stdout",
     "output_type": "stream",
     "text": [
      "Loading checkpoint checkpoint/run1/model-1000\n",
      "INFO:tensorflow:Restoring parameters from checkpoint/run1/model-1000\n"
     ]
    }
   ],
   "source": [
    "sess = gpt2.start_tf_sess()\n",
    "gpt2.load_gpt2(sess, run_name='run1')"
   ]
  },
  {
   "cell_type": "markdown",
   "metadata": {
    "colab_type": "text",
    "id": "ClJwpF_ACONp"
   },
   "source": [
    "## Generate Text From The Trained Model\n",
    "\n",
    "After you've trained the model or loaded a retrained model from checkpoint, you can now generate text. `generate` generates a single text from the loaded model."
   ]
  },
  {
   "cell_type": "code",
   "execution_count": 0,
   "metadata": {
    "colab": {
     "base_uri": "https://localhost:8080/",
     "height": 1000
    },
    "colab_type": "code",
    "id": "4RNY6RBI9LmL",
    "outputId": "b289883e-94c8-4400-fdb4-de1ed5229f90"
   },
   "outputs": [
    {
     "name": "stdout",
     "output_type": "stream",
     "text": [
      "Peace Corps Needs Assessment Project:\n",
      "- Document the basis for the Peace Corps needs assessment and\n",
      "report on its findings to the Project Director;\n",
      "- Analyze the need of Peace Corps staff and volunteers to provide\n",
      "quality training, support and transfer skills to the Peace Corps\n",
      "staff;\n",
      "- Identify specific training needs of Peace Corps staff and volunteers\n",
      "that may be required of future beneficiaries;\n",
      "- Develop a schedule for the creation of the Peace Corps training\n",
      "qualifications;\n",
      "- Identify the training schedule and conduct the trainings;\n",
      "- Develop a training plan for the Peace Corps staff and volunteers on\n",
      "the need assessment process;\n",
      "- Establish and maintain a continuous communication and resource\n",
      "relationship with the Peace Corps, USAID Agencies (USID) and other\n",
      "donors;\n",
      "- Develop and maintain a monthly and quarterly information\n",
      "dissemination;\n",
      "- Coordinate the monthly and quarterly information and resource\n",
      "relationship with the Peace Corps;\n",
      "- Ensure that the Peace Corps is aligned with the U.S. Agency for\n",
      "Development and Reforms (Alessandro) and the Central Bank of Armenia.\n",
      "Project Coordinator The Project Coordinator is responsible for\n",
      "coordinating the planning, implementation, monitoring and evaluation\n",
      "of Peace Corps projects. The incumbent will work within the\n",
      "Project Management Team and will be content to work with the\n",
      "establishment team, which includes the Peace Corps, the Central Bank of\n",
      "Armenia, and the National Office of the U.S. Agency for\n",
      "Development and Reforms. The incumbent will report to the\n",
      "Project Director. The incumbent will report to the National Director\n",
      "of the Office of the National Office of the United States Agency for\n",
      "Development and Reforms.\n",
      "The Project Coordinator will be responsible for the following\n",
      "tasks: \n",
      "- Coordinate the planning, implementation, monitoring and evaluation of\n",
      "projects;\n",
      "- Develop and maintain a continuous communication and resource\n",
      "relationship with the Peace Corps, USAID Agencies (USID) and other\n",
      "donors;\n",
      "- Coordinate the monthly and quarterly information and resource\n",
      "relationship with the Peace Corps;\n",
      "- Ensure that the Peace Corps is aligned with the ABA/ CPDC and the\n",
      "establishment team; \n",
      "- Ensure that the Peace Corps is aligned with the ABA/ CPDC and\n",
      "establishment teams, both from a technical and humanitarian viewpoint;\n",
      "- Ensure that the Peace Corps is aligned with and supports the National\n",
      "Office of the United States Agency for Development and Reforms; \n",
      "- Ensure that the Peace Corps is aware of and is accountable to the\n",
      "divisions within the National Office of the United States Agency for\n",
      "Development and Reforms.\n",
      "Senior Software Developer The Virtual Solution Global Services LLC is seeking\n",
      "for a high qualified Senior Software Developer to be engaged in\n",
      "the development of Web applications. - Participate in software design and development;\n",
      "- Provide maintenance of the software components;\n",
      "- Provide technical support and assistance;\n",
      "- Responsible for bug fixing.\n",
      "Translator/ Interpreter nan - Translate various documents, including legal, financial and\n",
      "other;\n",
      "- Interpret from English to Armenian and vice versa;\n",
      "- Answer telephone calls;\n",
      "- Provide translation and interpretation services to the CEO and\n",
      "other staff;\n",
      "- Assist the CEO in other administrative matters;\n",
      "- Provide written translations of various documents and materials;\n",
      "- Assist the CEO in other administrative matters.\n",
      "Lawyer The company is looking for a qualified Lawyers\n",
      "to work in the company. - Draft contracts, notices and other legal documents;\n",
      "- Draft, review and finalize contracts and other legal documents;\n",
      "- Maintain contracts, review documents and make amendments;\n",
      "- Review and finalize all legal documents; \n",
      "- Prepare and transmit all relevant documentation to the relevant\n",
      "authorities and departments in a timely manner;\n",
      "- Provide legal advice to all departments;\n",
      "- Provide legal support to other lawyers in their daily work;\n",
      "- Provide legal advice on various types of claims and situations;\n",
      "- Perform other duties as assigned.\n",
      "Accountant \"Armenia Wine\" Brewery is looking for a motivated,\n",
      "self-driven, highly professional candidate who will combine excellent\n",
      "and proven leadership qualities and have the ability to adapt to\n",
      "an international environment. The Accountant will be responsible for\n",
      "ensuring that proper accounting and reporting systems are in place which\n",
      "ensures accurate and appropriate financial and accounting information is\n",
      "provided to the management. The Accountant will report directly to\n",
      "the Executive Director. - Ensure accurate monthly, quarterly and annual accounts closing;\n",
      "- Assist with the preparation of financial statements, including\n",
      "daily, weekly, monthly, annual and monthly closing accounts;\n",
      "- Ensure that all sales-related expenses are accounted for on a\n",
      "timely basis;\n",
      "- Assist Sales and Service Manager with the preparation of sales and service\n",
      "administration plans;\n",
      "- Provide support to the Sales and Service Manager in the preparation of\n",
      "transportation related orders and arrangements;\n",
      "- Maintain the Sales and\n"
     ]
    }
   ],
   "source": [
    "gpt2.generate(sess, run_name='run1')"
   ]
  },
  {
   "cell_type": "markdown",
   "metadata": {
    "colab_type": "text",
    "id": "oF4-PqF0Fl7R"
   },
   "source": [
    "If you're creating an API based on your model and need to pass the generated text elsewhere, you can do `text = gpt2.generate(sess, return_as_list=True)[0]`\n",
    "\n",
    "You can also pass in a `prefix` to the generate function to force the text to start with a given character sequence and generate text from there (good if you add an indicator when the text starts).\n",
    "\n",
    "You can also generate multiple texts at a time by specifing `nsamples`. Unique to GPT-2, you can pass a `batch_size` to generate multiple samples in parallel, giving a massive speedup (in Colaboratory, set a maximum of 20 for `batch_size`).\n",
    "\n",
    "Other optional-but-helpful parameters for `gpt2.generate` and friends:\n",
    "\n",
    "*  **`length`**: Number of tokens to generate (default 1023, the maximum)\n",
    "* **`temperature`**: The higher the temperature, the crazier the text (default 0.7, recommended to keep between 0.7 and 1.0)\n",
    "* **`top_k`**: Limits the generated guesses to the top *k* guesses (default 0 which disables the behavior; if the generated output is super crazy, you may want to set `top_k=40`)\n",
    "* **`top_p`**: Nucleus sampling: limits the generated guesses to a cumulative probability. (gets good results on a dataset with `top_p=0.9`)\n",
    "* **`truncate`**: Truncates the input text until a given sequence, excluding that sequence (e.g. if `truncate='<|endoftext|>'`, the returned text will include everything before the first `<|endoftext|>`). It may be useful to combine this with a smaller `length` if the input texts are short.\n",
    "*  **`include_prefix`**: If using `truncate` and `include_prefix=False`, the specified `prefix` will not be included in the returned text."
   ]
  },
  {
   "cell_type": "code",
   "execution_count": 0,
   "metadata": {
    "colab": {
     "base_uri": "https://localhost:8080/",
     "height": 1000
    },
    "colab_type": "code",
    "id": "8DKMc0fiej4N",
    "outputId": "96bdcb0e-6620-4c83-fb91-da9f89312adf"
   },
   "outputs": [
    {
     "name": "stdout",
     "output_type": "stream",
     "text": [
      "Software Developer\t\n",
      "- Participate in development of software products;\n",
      "- Develop client side code;\n",
      "- Read, understand and modify the existing code;\n",
      "- Develop client side projects in Visual Studio.\n",
      "Senior Java Software Developer EPAM Systems, Inc. is seeking a Senior Java Software\n",
      "Developer to be part of a team focused on developing enterprise level\n",
      "applications (Elaborate, Deploy, Play, Relay, etc.) for the Company's global\n",
      "branching platform. The Senior Java Software Developer will be\n",
      "responsible for developing J2EE based applications. - Develop J2EE based applications for the global branch\n",
      "applications; \n",
      "- Develop J2EE based modules for the local branch applications;\n",
      "- Maintain and enhance Java based applications;\n",
      "- Work in a team to perform software development tasks.\n",
      "High School Mathematics and Science Teacher The Academy of Armenia is seeking for a high school\n",
      "Math and Science Teacher to be responsible for the professional development\n",
      "of high school mathematics and science teachers in Yerevan. The incumbent\n",
      "will be responsible for the delivery of the staff of the Academy of\n",
      "Armenia.\n",
      "The Academy is looking for highly motivated and qualified employees with\n",
      "individuals to fulfil the position\n",
      "====================\n",
      "Software Developer\tA) work on software applications;\n",
      "b) participate in development of software applications (requirements,\n",
      "design, develop, modify and test);\n",
      "c) participate in development of database (using SQL);\n",
      "d) develop databases and tools based on requirements and design;\n",
      "e) build applications and databases.\n",
      "Software Developer nan nan\n",
      "Senior Software Developer (C++) The Software Developer will be responsible for\n",
      "implementation of software applications developed for the Company by\n",
      "Yerevan-based company. nan\n",
      "Project Manager The successful candidate will become the project manager\n",
      "and be responsible for the project management process. - Manage and plan the project team;\n",
      "- Conduct project planning;\n",
      "- Organize project implementation process;\n",
      "- Coordinate the project work with the project manager and the\n",
      "other developers;\n",
      "- Hold meetings and discussions with the project managers and\n",
      "developers;\n",
      "- Maintain project files;\n",
      "- Develop software specifications;\n",
      "- Develop new software under technical direction;\n",
      "- Develop software code for the project and prepare code according to\n",
      "technical specifications;\n",
      "- Document software specifications;\n",
      "- Participate in technical meetings;\n",
      "- Develop software documentation;\n",
      "- Participate in the technical analysis of the software;\n",
      "-\n",
      "====================\n",
      "Software Developer\tThe incumbent will be responsible for the\n",
      "development of Web applications in accordance with given Specifications\n",
      "and Software QA test plans. - Participate in all cycles of test design and execution;\n",
      "- Develop test plans;\n",
      "- Develop and extend code for the developed test cases;\n",
      "- Document the test plans in technical documentation and online\n",
      "reporting;\n",
      "- Document all changes made to test cases;\n",
      "- Responsible for bug tracking;  \n",
      "- Report bugs to project teams;\n",
      "- Manage defect tracking;\n",
      "- Work in contact with developers and clients to ensure test coverage\n",
      "is maintained and tracked;\n",
      "- Report on the status of the tested feature;\n",
      "- Report on any issues with the tested feature;\n",
      "- Report any bugs to development teams.\n",
      "QA Engineer The QA Engineer will provide expertise in the area of\n",
      "Manual QA activities for applications developed by the company. As part of a team, the QA\n",
      "Engineer will be involved in a wide variety of test cases as well as in\n",
      "functional and regression testing. - Write test plans throughout the development lifecycle;\n",
      "- Ensure test plans thoroughly cover all requirements and use cases;\n",
      "- Plan, schedule and perform manual and automated software tests;\n",
      "====================\n",
      "Software Developer\t \"Ivanet\" Information Technology Consulting Ltd. is looking for a\n",
      "Computer Science Intern to\n",
      "Participate in daily software development. - Assist the team members in daily software development and maintenance;\n",
      "- Provide technical support and assistance;\n",
      "- Provide technical support;\n",
      "- Develop software according to requirements;\n",
      "- Participate in planning and implementation of software development\n",
      "activities.\n",
      "Sales Person/ Service Agency Manager The Sales Person/ Service Agency Manager will be\n",
      "responsible for the organization of sales of electronic and hard copy\n",
      "equipment, in particular for the maintenance and repair of the\n",
      "equipment. - Conduct daily service and service planning as instructed by the\n",
      "Sales Manager;\n",
      "- Consult with customers and other departments on the adequacy of\n",
      "the equipment;\n",
      "- Provide information to the customers on equipment repair and serve\n",
      "offers;\n",
      "- Support and implement the company's sales policy and practices;\n",
      "- Develop and implement a sales strategy and sales strategy on behalf\n",
      "of the company;\n",
      "- Oversee the preparation of the orders for shipment and shipment to\n",
      "Armenia;\n",
      "- Ensure good customer service and compliance with all company and\n",
      "Armenian laws and regulations;\n",
      "- Ensure that all other aspects of the equipment are\n",
      "====================\n",
      "Software Developer\tThe position requires a motivated, hard working\n",
      "person with excellent written and verbal communication skills. The\n",
      "incumbent will need to:\n",
      "- Understand the Software Development cycle and the specific\n",
      "requirements for each project;\n",
      "- Collaborate with other team members to define and document the\n",
      "requirements for a project;\n",
      "- Develop and maintain documentation and reference documentation;\n",
      "- Document the requirements and build the functionalities of the\n",
      "project;\n",
      "- Work with others in the team to define the technical architecture,\n",
      "functional specifications, and system specifications;\n",
      "- Develop test plans;\n",
      "- Ensure the quality of the test suite runs;\n",
      "- Ensure that all the tested features pass;\n",
      "- Report bugs to project teams;\n",
      "- Ensure that the project is running according to technical direction;\n",
      "- Ensure that all the correct engineering and programming resources\n",
      "are at all times;\n",
      "- Ensure that the project is running according to the quality and\n",
      "timely release schedule;\n",
      "- Ensure that all the required project documentation is up-to-date;\n",
      "- Ensure that the project is in compliance with the quality and\n",
      "timely release schedule;\n",
      "- Ensure that all the required support requests are in place and\n",
      "respond to the project immediately.\n",
      "====================\n"
     ]
    }
   ],
   "source": [
    "gpt2.generate(sess,\n",
    "              length=250,\n",
    "              temperature=0.7,\n",
    "              prefix=\"Software Developer\t\",\n",
    "              nsamples=5,\n",
    "              batch_size=5\n",
    "              )"
   ]
  },
  {
   "cell_type": "markdown",
   "metadata": {
    "colab_type": "text",
    "id": "zjjEN2Tafhl2"
   },
   "source": [
    "For bulk generation, you can generate a large amount of text to a file and sort out the samples locally on your computer. The next cell will generate a generated text file with a unique timestamp.\n",
    "\n",
    "You can rerun the cells as many times as you want for even more generated texts!"
   ]
  },
  {
   "cell_type": "code",
   "execution_count": 0,
   "metadata": {
    "colab": {},
    "colab_type": "code",
    "id": "Fa6p6arifSL0"
   },
   "outputs": [],
   "source": [
    "gen_file = 'gpt2_gentext_{:%Y%m%d_%H%M%S}.txt'.format(datetime.utcnow())\n",
    "\n",
    "gpt2.generate_to_file(sess,\n",
    "                      destination_path=gen_file,\n",
    "                      length=500,\n",
    "                      temperature=0.7,\n",
    "                      nsamples=100,\n",
    "                      batch_size=20\n",
    "                      )"
   ]
  },
  {
   "cell_type": "code",
   "execution_count": 0,
   "metadata": {
    "colab": {},
    "colab_type": "code",
    "id": "0-LRex8lfv1g"
   },
   "outputs": [],
   "source": [
    "# may have to run twice to get file to download\n",
    "files.download(gen_file)"
   ]
  },
  {
   "cell_type": "markdown",
   "metadata": {
    "colab_type": "text",
    "id": "QQAN3M6RT7Kj"
   },
   "source": [
    "\n",
    "\n",
    "reference : https://github.com/minimaxir/gpt-2-simple\n",
    "kaggle dataset : https://www.kaggle.com/madhab/jobposts"
   ]
  }
 ],
 "metadata": {
  "accelerator": "GPU",
  "colab": {
   "collapsed_sections": [],
   "name": "Copy of Train a GPT-2 Text-Generating Model w/ GPU",
   "provenance": []
  },
  "kernelspec": {
   "display_name": "Python 3",
   "language": "python",
   "name": "python3"
  },
  "language_info": {
   "codemirror_mode": {
    "name": "ipython",
    "version": 3
   },
   "file_extension": ".py",
   "mimetype": "text/x-python",
   "name": "python",
   "nbconvert_exporter": "python",
   "pygments_lexer": "ipython3",
   "version": "3.7.4"
  }
 },
 "nbformat": 4,
 "nbformat_minor": 1
}
